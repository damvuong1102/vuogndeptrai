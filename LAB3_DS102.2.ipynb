{
 "cells": [
  {
   "cell_type": "markdown",
   "metadata": {},
   "source": [
    "LOAD FILE ẢNH"
   ]
  },
  {
   "cell_type": "code",
   "execution_count": 37,
   "metadata": {},
   "outputs": [],
   "source": [
    "import os\n",
    "from PIL import Image\n",
    "import numpy as np\n",
    "\n",
    "def load_images_flat(folder):\n",
    "    images = []\n",
    "    labels = []\n",
    "    for filename in sorted(os.listdir(folder)):\n",
    "        img_path = os.path.join(folder, filename)\n",
    "        if filename.lower().endswith(('.png', '.jpg', '.jpeg', '.bmp', '.pgm')):\n",
    "            try:\n",
    "                img = Image.open(img_path).convert('L')\n",
    "                img = np.asarray(img, dtype=np.float32).flatten()\n",
    "                images.append(img)\n",
    "                labels.append(filename.split('.')[0])  # Label theo tên file\n",
    "            except Exception as e:\n",
    "                print(f\"❌ Không đọc được file: {img_path}, lỗi: {e}\")\n",
    "    return np.array(images), labels\n",
    "\n"
   ]
  },
  {
   "cell_type": "markdown",
   "metadata": {},
   "source": [
    "Hàm PCA"
   ]
  },
  {
   "cell_type": "code",
   "execution_count": 7,
   "metadata": {},
   "outputs": [],
   "source": [
    "import numpy as np\n",
    "\n",
    "def pca(X, num_components):\n",
    "    mean_face = np.mean(X, axis=0)\n",
    "    X_centered = X - mean_face\n",
    "\n",
    "    # Dùng SVD thay vì covariance matrix\n",
    "    U, S, Vt = np.linalg.svd(X_centered, full_matrices=False)\n",
    "    principal_components = Vt[:num_components].T\n",
    "\n",
    "    return principal_components, mean_face\n"
   ]
  },
  {
   "cell_type": "markdown",
   "metadata": {},
   "source": [
    "Hàm đọc ảnh"
   ]
  },
  {
   "cell_type": "code",
   "execution_count": 3,
   "metadata": {},
   "outputs": [],
   "source": [
    "import os\n",
    "import numpy as np\n",
    "from PIL import Image\n",
    "\n",
    "def load_images(folder):\n",
    "    images = []\n",
    "    labels = []\n",
    "    label_names = sorted(os.listdir(folder))\n",
    "    for label in label_names:\n",
    "        label_folder = os.path.join(folder, label)\n",
    "        if os.path.isdir(label_folder):\n",
    "            for filename in os.listdir(label_folder):\n",
    "                img_path = os.path.join(label_folder, filename)\n",
    "                img = Image.open(img_path).convert('L')\n",
    "                img = np.asarray(img, dtype=np.float32).flatten()\n",
    "                images.append(img)\n",
    "                labels.append(label)\n",
    "    return np.array(images), labels"
   ]
  },
  {
   "cell_type": "markdown",
   "metadata": {},
   "source": [
    "Hàm vẽ eigenfaces, tính accuracy"
   ]
  },
  {
   "cell_type": "code",
   "execution_count": 4,
   "metadata": {},
   "outputs": [],
   "source": [
    "import numpy as np\n",
    "import matplotlib.pyplot as plt\n",
    "\n",
    "def plot_eigenfaces(principal_components, img_shape):\n",
    "    fig, axes = plt.subplots(4, 5, figsize=(10, 8))\n",
    "    for i, ax in enumerate(axes.flat):\n",
    "        eigenface = principal_components[:, i].reshape(img_shape)\n",
    "        ax.imshow(eigenface, cmap='gray')\n",
    "        ax.axis('off')\n",
    "    plt.tight_layout()\n",
    "    plt.show()\n",
    "\n",
    "def accuracy(predictions, ground_truth):\n",
    "    correct = np.sum(np.array(predictions) == np.array(ground_truth))\n",
    "    return correct / len(ground_truth)\n"
   ]
  },
  {
   "cell_type": "markdown",
   "metadata": {},
   "source": [
    "TRAIN"
   ]
  },
  {
   "cell_type": "code",
   "execution_count": 5,
   "metadata": {},
   "outputs": [
    {
     "name": "stdout",
     "output_type": "stream",
     "text": [
      "(150, 77760)\n",
      "15\n"
     ]
    }
   ],
   "source": [
    "X_train, y_train = load_images('C:/Users/pc/Downloads/yalefaces/yalefaces')\n",
    "print(X_train.shape)\n",
    "print(len(set(y_train)))  # phải ra 15 labels\n"
   ]
  },
  {
   "cell_type": "code",
   "execution_count": 8,
   "metadata": {},
   "outputs": [],
   "source": [
    "#PCA\n",
    "NUM_COMPONENTS = 20\n",
    "principal_components, mean_face = pca(X_train, num_components=NUM_COMPONENTS)\n"
   ]
  },
  {
   "cell_type": "code",
   "execution_count": 9,
   "metadata": {},
   "outputs": [],
   "source": [
    "X_train_centered = X_train - mean_face\n",
    "X_train_projected = X_train_centered @ principal_components\n"
   ]
  },
  {
   "cell_type": "markdown",
   "metadata": {},
   "source": [
    "TEST"
   ]
  },
  {
   "cell_type": "code",
   "execution_count": 38,
   "metadata": {},
   "outputs": [
    {
     "name": "stdout",
     "output_type": "stream",
     "text": [
      "(15, 77760)\n",
      "['person-1', 'person-10', 'person-11', 'person-12', 'person-13', 'person-14', 'person-15', 'person-2', 'person-3', 'person-4', 'person-5', 'person-6', 'person-7', 'person-8', 'person-9']\n"
     ]
    }
   ],
   "source": [
    "X_test, y_test = load_images_flat('C:\\\\Users\\\\pc\\\\OneDrive\\\\Desktop\\\\test')\n",
    "print(X_test.shape)\n",
    "print(y_test)\n",
    "\n"
   ]
  },
  {
   "cell_type": "code",
   "execution_count": 39,
   "metadata": {},
   "outputs": [],
   "source": [
    "X_test_centered = X_test - mean_face\n"
   ]
  },
  {
   "cell_type": "code",
   "execution_count": 40,
   "metadata": {},
   "outputs": [],
   "source": [
    "X_test_projected = X_test_centered @ principal_components\n"
   ]
  },
  {
   "cell_type": "code",
   "execution_count": 41,
   "metadata": {},
   "outputs": [],
   "source": [
    "predictions = []\n",
    "for x in X_test_projected:\n",
    "    distances = np.linalg.norm(X_train_projected - x, axis=1)\n",
    "    min_idx = np.argmin(distances)\n",
    "    predictions.append(y_train[min_idx])  # lấy label train gần nhất\n"
   ]
  },
  {
   "cell_type": "code",
   "execution_count": 42,
   "metadata": {},
   "outputs": [
    {
     "name": "stdout",
     "output_type": "stream",
     "text": [
      "Ảnh test: person-1 -> Dự đoán: person-1\n",
      "Ảnh test: person-10 -> Dự đoán: person-10\n",
      "Ảnh test: person-11 -> Dự đoán: person-11\n",
      "Ảnh test: person-12 -> Dự đoán: person-12\n",
      "Ảnh test: person-13 -> Dự đoán: person-13\n",
      "Ảnh test: person-14 -> Dự đoán: person-6\n",
      "Ảnh test: person-15 -> Dự đoán: person-15\n",
      "Ảnh test: person-2 -> Dự đoán: person-12\n",
      "Ảnh test: person-3 -> Dự đoán: person-3\n",
      "Ảnh test: person-4 -> Dự đoán: person-4\n",
      "Ảnh test: person-5 -> Dự đoán: person-5\n",
      "Ảnh test: person-6 -> Dự đoán: person-6\n",
      "Ảnh test: person-7 -> Dự đoán: person-7\n",
      "Ảnh test: person-8 -> Dự đoán: person-7\n",
      "Ảnh test: person-9 -> Dự đoán: person-9\n"
     ]
    }
   ],
   "source": [
    "for pred, true_label in zip(predictions, y_test):\n",
    "    print(f\"Ảnh test: {true_label} -> Dự đoán: {pred}\")\n",
    "\n"
   ]
  },
  {
   "cell_type": "code",
   "execution_count": 44,
   "metadata": {},
   "outputs": [
    {
     "name": "stdout",
     "output_type": "stream",
     "text": [
      "✅ Độ chính xác trên tập test: 80.00%\n"
     ]
    }
   ],
   "source": [
    "from sklearn.metrics import accuracy_score\n",
    "\n",
    "acc = accuracy_score(y_test, predictions)\n",
    "print(f\"✅ Độ chính xác trên tập test: {acc*100:.2f}%\")\n"
   ]
  }
 ],
 "metadata": {
  "kernelspec": {
   "display_name": "Python 3",
   "language": "python",
   "name": "python3"
  },
  "language_info": {
   "codemirror_mode": {
    "name": "ipython",
    "version": 3
   },
   "file_extension": ".py",
   "mimetype": "text/x-python",
   "name": "python",
   "nbconvert_exporter": "python",
   "pygments_lexer": "ipython3",
   "version": "3.13.2"
  }
 },
 "nbformat": 4,
 "nbformat_minor": 2
}
